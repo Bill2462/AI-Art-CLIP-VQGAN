{
 "cells": [
  {
   "cell_type": "markdown",
   "id": "90b53ba6",
   "metadata": {},
   "source": [
    "# Text guided image synthesis - Part 1: preparing enviornment\n",
    "\n",
    "In this notebook we install all dependencies and download AI models for this project.\n",
    "\n",
    "## Assumptions\n",
    "\n",
    " - We run on linux.\n",
    " - Apt package is available.\n",
    " - We are root.\n",
    " - torchvision pytorch and nvidia drivers are installed.\n",
    " - Jupyter notebook or jupyter lab is installed.\n",
    "\n",
    "This is essentially setup that we have if we run docker image from pytorch (https://hub.docker.com/r/pytorch/pytorch/).\n",
    "\n",
    "## Dependencies from apt\n",
    "\n",
    "We need to have curl and git if it is not already installed."
   ]
  },
  {
   "cell_type": "code",
   "execution_count": 13,
   "id": "85be978d",
   "metadata": {},
   "outputs": [
    {
     "name": "stdout",
     "output_type": "stream",
     "text": [
      "Reading package lists... Done\n",
      "Building dependency tree       \n",
      "Reading state information... Done\n",
      "curl is already the newest version (7.58.0-2ubuntu3.16).\n",
      "git is already the newest version (1:2.17.1-1ubuntu0.9).\n",
      "The following NEW packages will be installed:\n",
      "  wget\n",
      "0 upgraded, 1 newly installed, 0 to remove and 3 not upgraded.\n",
      "Need to get 316 kB of archives.\n",
      "After this operation, 954 kB of additional disk space will be used.\n",
      "Get:1 http://archive.ubuntu.com/ubuntu bionic-updates/main amd64 wget amd64 1.19.4-1ubuntu2.2 [316 kB]\n",
      "Fetched 316 kB in 1s (343 kB/s)[0m[33m\u001b[33m\n",
      "debconf: delaying package configuration, since apt-utils is not installed\n",
      "\n",
      "\u001b7\u001b[0;23r\u001b8\u001b[1ASelecting previously unselected package wget.\n",
      "(Reading database ... 9787 files and directories currently installed.)\n",
      "Preparing to unpack .../wget_1.19.4-1ubuntu2.2_amd64.deb ...\n",
      "\u001b7\u001b[24;0f\u001b[42m\u001b[30mProgress: [  0%]\u001b[49m\u001b[39m [..........................................................] \u001b8\u001b7\u001b[24;0f\u001b[42m\u001b[30mProgress: [ 17%]\u001b[49m\u001b[39m [#########.................................................] \u001b8Unpacking wget (1.19.4-1ubuntu2.2) ...\n",
      "\u001b7\u001b[24;0f\u001b[42m\u001b[30mProgress: [ 33%]\u001b[49m\u001b[39m [###################.......................................] \u001b8\u001b7\u001b[24;0f\u001b[42m\u001b[30mProgress: [ 50%]\u001b[49m\u001b[39m [#############################.............................] \u001b8Setting up wget (1.19.4-1ubuntu2.2) ...\n",
      "\u001b7\u001b[24;0f\u001b[42m\u001b[30mProgress: [ 67%]\u001b[49m\u001b[39m [######################################....................] \u001b8\u001b7\u001b[24;0f\u001b[42m\u001b[30mProgress: [ 83%]\u001b[49m\u001b[39m [################################################..........] \u001b8\n",
      "\u001b7\u001b[0;24r\u001b8\u001b[1A\u001b[J"
     ]
    }
   ],
   "source": [
    "! apt install -y curl wget git"
   ]
  },
  {
   "cell_type": "markdown",
   "id": "a2963e26",
   "metadata": {},
   "source": [
    "## Install required packages using pip\n",
    "\n",
    "(Pip as to be installed)\n",
    "\n",
    "We install:\n",
    "\n",
    " - taming transformes paper source code\n",
    " - tensorflow (for superresolution)\n",
    " - Image Superresolution package\n",
    " - CLIP source code\n",
    " - pytorch lightning\n",
    " - omegaconf"
   ]
  },
  {
   "cell_type": "code",
   "execution_count": 9,
   "id": "c793dedb",
   "metadata": {},
   "outputs": [
    {
     "name": "stdout",
     "output_type": "stream",
     "text": [
      "Requirement already satisfied: omegaconf in /opt/conda/lib/python3.8/site-packages (2.1.1)\n",
      "Requirement already satisfied: pytorch-lightning in /opt/conda/lib/python3.8/site-packages (1.5.10)\n",
      "Requirement already satisfied: tensorflow in /opt/conda/lib/python3.8/site-packages (2.8.0)\n",
      "Requirement already satisfied: antlr4-python3-runtime==4.8 in /opt/conda/lib/python3.8/site-packages (from omegaconf) (4.8)\n",
      "Requirement already satisfied: PyYAML>=5.1.0 in /opt/conda/lib/python3.8/site-packages (from omegaconf) (6.0)\n",
      "Requirement already satisfied: fsspec[http]!=2021.06.0,>=2021.05.0 in /opt/conda/lib/python3.8/site-packages (from pytorch-lightning) (2022.2.0)\n",
      "Requirement already satisfied: tensorboard>=2.2.0 in /opt/conda/lib/python3.8/site-packages (from pytorch-lightning) (2.8.0)\n",
      "Requirement already satisfied: torchmetrics>=0.4.1 in /opt/conda/lib/python3.8/site-packages (from pytorch-lightning) (0.7.3)\n",
      "Requirement already satisfied: numpy>=1.17.2 in /opt/conda/lib/python3.8/site-packages (from pytorch-lightning) (1.21.2)\n",
      "Requirement already satisfied: pyDeprecate==0.3.1 in /opt/conda/lib/python3.8/site-packages (from pytorch-lightning) (0.3.1)\n",
      "Requirement already satisfied: torch>=1.7.* in /opt/conda/lib/python3.8/site-packages (from pytorch-lightning) (1.11.0)\n",
      "Requirement already satisfied: typing-extensions in /opt/conda/lib/python3.8/site-packages (from pytorch-lightning) (3.10.0.2)\n",
      "Requirement already satisfied: setuptools==59.5.0 in /opt/conda/lib/python3.8/site-packages (from pytorch-lightning) (59.5.0)\n",
      "Requirement already satisfied: packaging>=17.0 in /opt/conda/lib/python3.8/site-packages (from pytorch-lightning) (21.3)\n",
      "Requirement already satisfied: tqdm>=4.41.0 in /opt/conda/lib/python3.8/site-packages (from pytorch-lightning) (4.62.3)\n",
      "Requirement already satisfied: future>=0.17.1 in /opt/conda/lib/python3.8/site-packages (from pytorch-lightning) (0.18.2)\n",
      "Requirement already satisfied: tensorflow-io-gcs-filesystem>=0.23.1 in /opt/conda/lib/python3.8/site-packages (from tensorflow) (0.24.0)\n",
      "Requirement already satisfied: h5py>=2.9.0 in /opt/conda/lib/python3.8/site-packages (from tensorflow) (3.6.0)\n",
      "Requirement already satisfied: tf-estimator-nightly==2.8.0.dev2021122109 in /opt/conda/lib/python3.8/site-packages (from tensorflow) (2.8.0.dev2021122109)\n",
      "Requirement already satisfied: six>=1.12.0 in /opt/conda/lib/python3.8/site-packages (from tensorflow) (1.16.0)\n",
      "Requirement already satisfied: gast>=0.2.1 in /opt/conda/lib/python3.8/site-packages (from tensorflow) (0.5.3)\n",
      "Requirement already satisfied: google-pasta>=0.1.1 in /opt/conda/lib/python3.8/site-packages (from tensorflow) (0.2.0)\n",
      "Requirement already satisfied: wrapt>=1.11.0 in /opt/conda/lib/python3.8/site-packages (from tensorflow) (1.14.0)\n",
      "Requirement already satisfied: keras<2.9,>=2.8.0rc0 in /opt/conda/lib/python3.8/site-packages (from tensorflow) (2.8.0)\n",
      "Requirement already satisfied: opt-einsum>=2.3.2 in /opt/conda/lib/python3.8/site-packages (from tensorflow) (3.3.0)\n",
      "Requirement already satisfied: absl-py>=0.4.0 in /opt/conda/lib/python3.8/site-packages (from tensorflow) (1.0.0)\n",
      "Requirement already satisfied: keras-preprocessing>=1.1.1 in /opt/conda/lib/python3.8/site-packages (from tensorflow) (1.1.2)\n",
      "Requirement already satisfied: protobuf>=3.9.2 in /opt/conda/lib/python3.8/site-packages (from tensorflow) (3.19.4)\n",
      "Requirement already satisfied: astunparse>=1.6.0 in /opt/conda/lib/python3.8/site-packages (from tensorflow) (1.6.3)\n",
      "Requirement already satisfied: flatbuffers>=1.12 in /opt/conda/lib/python3.8/site-packages (from tensorflow) (2.0)\n",
      "Requirement already satisfied: termcolor>=1.1.0 in /opt/conda/lib/python3.8/site-packages (from tensorflow) (1.1.0)\n",
      "Requirement already satisfied: libclang>=9.0.1 in /opt/conda/lib/python3.8/site-packages (from tensorflow) (13.0.0)\n",
      "Requirement already satisfied: grpcio<2.0,>=1.24.3 in /opt/conda/lib/python3.8/site-packages (from tensorflow) (1.44.0)\n",
      "Requirement already satisfied: wheel<1.0,>=0.23.0 in /opt/conda/lib/python3.8/site-packages (from astunparse>=1.6.0->tensorflow) (0.37.1)\n",
      "Requirement already satisfied: requests in /opt/conda/lib/python3.8/site-packages (from fsspec[http]!=2021.06.0,>=2021.05.0->pytorch-lightning) (2.27.1)\n",
      "Requirement already satisfied: aiohttp in /opt/conda/lib/python3.8/site-packages (from fsspec[http]!=2021.06.0,>=2021.05.0->pytorch-lightning) (3.8.1)\n",
      "Requirement already satisfied: pyparsing!=3.0.5,>=2.0.2 in /opt/conda/lib/python3.8/site-packages (from packaging>=17.0->pytorch-lightning) (3.0.7)\n",
      "Requirement already satisfied: tensorboard-data-server<0.7.0,>=0.6.0 in /opt/conda/lib/python3.8/site-packages (from tensorboard>=2.2.0->pytorch-lightning) (0.6.1)\n",
      "Requirement already satisfied: werkzeug>=0.11.15 in /opt/conda/lib/python3.8/site-packages (from tensorboard>=2.2.0->pytorch-lightning) (2.0.3)\n",
      "Requirement already satisfied: google-auth-oauthlib<0.5,>=0.4.1 in /opt/conda/lib/python3.8/site-packages (from tensorboard>=2.2.0->pytorch-lightning) (0.4.6)\n",
      "Requirement already satisfied: markdown>=2.6.8 in /opt/conda/lib/python3.8/site-packages (from tensorboard>=2.2.0->pytorch-lightning) (3.3.6)\n",
      "Requirement already satisfied: tensorboard-plugin-wit>=1.6.0 in /opt/conda/lib/python3.8/site-packages (from tensorboard>=2.2.0->pytorch-lightning) (1.8.1)\n",
      "Requirement already satisfied: google-auth<3,>=1.6.3 in /opt/conda/lib/python3.8/site-packages (from tensorboard>=2.2.0->pytorch-lightning) (2.6.2)\n",
      "Requirement already satisfied: rsa<5,>=3.1.4 in /opt/conda/lib/python3.8/site-packages (from google-auth<3,>=1.6.3->tensorboard>=2.2.0->pytorch-lightning) (4.8)\n",
      "Requirement already satisfied: pyasn1-modules>=0.2.1 in /opt/conda/lib/python3.8/site-packages (from google-auth<3,>=1.6.3->tensorboard>=2.2.0->pytorch-lightning) (0.2.8)\n",
      "Requirement already satisfied: cachetools<6.0,>=2.0.0 in /opt/conda/lib/python3.8/site-packages (from google-auth<3,>=1.6.3->tensorboard>=2.2.0->pytorch-lightning) (5.0.0)\n",
      "Requirement already satisfied: requests-oauthlib>=0.7.0 in /opt/conda/lib/python3.8/site-packages (from google-auth-oauthlib<0.5,>=0.4.1->tensorboard>=2.2.0->pytorch-lightning) (1.3.1)\n",
      "Requirement already satisfied: importlib-metadata>=4.4 in /opt/conda/lib/python3.8/site-packages (from markdown>=2.6.8->tensorboard>=2.2.0->pytorch-lightning) (4.11.3)\n",
      "Requirement already satisfied: zipp>=0.5 in /opt/conda/lib/python3.8/site-packages (from importlib-metadata>=4.4->markdown>=2.6.8->tensorboard>=2.2.0->pytorch-lightning) (3.7.0)\n",
      "Requirement already satisfied: pyasn1<0.5.0,>=0.4.6 in /opt/conda/lib/python3.8/site-packages (from pyasn1-modules>=0.2.1->google-auth<3,>=1.6.3->tensorboard>=2.2.0->pytorch-lightning) (0.4.8)\n",
      "Requirement already satisfied: charset-normalizer~=2.0.0 in /opt/conda/lib/python3.8/site-packages (from requests->fsspec[http]!=2021.06.0,>=2021.05.0->pytorch-lightning) (2.0.4)\n",
      "Requirement already satisfied: idna<4,>=2.5 in /opt/conda/lib/python3.8/site-packages (from requests->fsspec[http]!=2021.06.0,>=2021.05.0->pytorch-lightning) (3.3)\n",
      "Requirement already satisfied: certifi>=2017.4.17 in /opt/conda/lib/python3.8/site-packages (from requests->fsspec[http]!=2021.06.0,>=2021.05.0->pytorch-lightning) (2021.10.8)\n",
      "Requirement already satisfied: urllib3<1.27,>=1.21.1 in /opt/conda/lib/python3.8/site-packages (from requests->fsspec[http]!=2021.06.0,>=2021.05.0->pytorch-lightning) (1.26.7)\n",
      "Requirement already satisfied: oauthlib>=3.0.0 in /opt/conda/lib/python3.8/site-packages (from requests-oauthlib>=0.7.0->google-auth-oauthlib<0.5,>=0.4.1->tensorboard>=2.2.0->pytorch-lightning) (3.2.0)\n",
      "Requirement already satisfied: frozenlist>=1.1.1 in /opt/conda/lib/python3.8/site-packages (from aiohttp->fsspec[http]!=2021.06.0,>=2021.05.0->pytorch-lightning) (1.3.0)\n",
      "Requirement already satisfied: multidict<7.0,>=4.5 in /opt/conda/lib/python3.8/site-packages (from aiohttp->fsspec[http]!=2021.06.0,>=2021.05.0->pytorch-lightning) (6.0.2)\n",
      "Requirement already satisfied: attrs>=17.3.0 in /opt/conda/lib/python3.8/site-packages (from aiohttp->fsspec[http]!=2021.06.0,>=2021.05.0->pytorch-lightning) (21.4.0)\n",
      "Requirement already satisfied: aiosignal>=1.1.2 in /opt/conda/lib/python3.8/site-packages (from aiohttp->fsspec[http]!=2021.06.0,>=2021.05.0->pytorch-lightning) (1.2.0)\n",
      "Requirement already satisfied: async-timeout<5.0,>=4.0.0a3 in /opt/conda/lib/python3.8/site-packages (from aiohttp->fsspec[http]!=2021.06.0,>=2021.05.0->pytorch-lightning) (4.0.2)\n"
     ]
    },
    {
     "name": "stdout",
     "output_type": "stream",
     "text": [
      "Requirement already satisfied: yarl<2.0,>=1.0 in /opt/conda/lib/python3.8/site-packages (from aiohttp->fsspec[http]!=2021.06.0,>=2021.05.0->pytorch-lightning) (1.7.2)\n",
      "\u001b[33mWARNING: Running pip as the 'root' user can result in broken permissions and conflicting behaviour with the system package manager. It is recommended to use a virtual environment instead: https://pip.pypa.io/warnings/venv\u001b[0m\n",
      "Collecting git+https://github.com/bfirsh/taming-transformers.git\n",
      "  Cloning https://github.com/bfirsh/taming-transformers.git to /tmp/pip-req-build-h5cl1p7l\n",
      "  Running command git clone -q https://github.com/bfirsh/taming-transformers.git /tmp/pip-req-build-h5cl1p7l\n",
      "  Resolved https://github.com/bfirsh/taming-transformers.git to commit 8ec57d77c125b19f8f6c047496fd0216db3b700f\n",
      "Requirement already satisfied: torch in /opt/conda/lib/python3.8/site-packages (from taming-transformers==0.0.1) (1.11.0)\n",
      "Requirement already satisfied: numpy in /opt/conda/lib/python3.8/site-packages (from taming-transformers==0.0.1) (1.21.2)\n",
      "Requirement already satisfied: tqdm in /opt/conda/lib/python3.8/site-packages (from taming-transformers==0.0.1) (4.62.3)\n",
      "Requirement already satisfied: typing_extensions in /opt/conda/lib/python3.8/site-packages (from torch->taming-transformers==0.0.1) (3.10.0.2)\n",
      "\u001b[33mWARNING: Running pip as the 'root' user can result in broken permissions and conflicting behaviour with the system package manager. It is recommended to use a virtual environment instead: https://pip.pypa.io/warnings/venv\u001b[0m\n",
      "Collecting git+https://github.com/openai/CLIP.git\n",
      "  Cloning https://github.com/openai/CLIP.git to /tmp/pip-req-build-41ifntb3\n",
      "  Running command git clone -q https://github.com/openai/CLIP.git /tmp/pip-req-build-41ifntb3\n",
      "  Resolved https://github.com/openai/CLIP.git to commit 40f5484c1c74edd83cb9cf687c6ab92b28d8b656\n",
      "Requirement already satisfied: ftfy in /opt/conda/lib/python3.8/site-packages (from clip==1.0) (6.1.1)\n",
      "Requirement already satisfied: regex in /opt/conda/lib/python3.8/site-packages (from clip==1.0) (2022.3.15)\n",
      "Requirement already satisfied: tqdm in /opt/conda/lib/python3.8/site-packages (from clip==1.0) (4.62.3)\n",
      "Requirement already satisfied: torch in /opt/conda/lib/python3.8/site-packages (from clip==1.0) (1.11.0)\n",
      "Requirement already satisfied: torchvision in /opt/conda/lib/python3.8/site-packages (from clip==1.0) (0.12.0)\n",
      "Requirement already satisfied: wcwidth>=0.2.5 in /opt/conda/lib/python3.8/site-packages (from ftfy->clip==1.0) (0.2.5)\n",
      "Requirement already satisfied: typing_extensions in /opt/conda/lib/python3.8/site-packages (from torch->clip==1.0) (3.10.0.2)\n",
      "Requirement already satisfied: numpy in /opt/conda/lib/python3.8/site-packages (from torchvision->clip==1.0) (1.21.2)\n",
      "Requirement already satisfied: requests in /opt/conda/lib/python3.8/site-packages (from torchvision->clip==1.0) (2.27.1)\n",
      "Requirement already satisfied: pillow!=8.3.*,>=5.3.0 in /opt/conda/lib/python3.8/site-packages (from torchvision->clip==1.0) (9.0.1)\n",
      "Requirement already satisfied: idna<4,>=2.5 in /opt/conda/lib/python3.8/site-packages (from requests->torchvision->clip==1.0) (3.3)\n",
      "Requirement already satisfied: certifi>=2017.4.17 in /opt/conda/lib/python3.8/site-packages (from requests->torchvision->clip==1.0) (2021.10.8)\n",
      "Requirement already satisfied: charset-normalizer~=2.0.0 in /opt/conda/lib/python3.8/site-packages (from requests->torchvision->clip==1.0) (2.0.4)\n",
      "Requirement already satisfied: urllib3<1.27,>=1.21.1 in /opt/conda/lib/python3.8/site-packages (from requests->torchvision->clip==1.0) (1.26.7)\n",
      "\u001b[33mWARNING: Running pip as the 'root' user can result in broken permissions and conflicting behaviour with the system package manager. It is recommended to use a virtual environment instead: https://pip.pypa.io/warnings/venv\u001b[0m\n",
      "Collecting git+https://github.com/idealo/image-super-resolution.git\n",
      "  Cloning https://github.com/idealo/image-super-resolution.git to /tmp/pip-req-build-ss87y1_b\n",
      "  Running command git clone -q https://github.com/idealo/image-super-resolution.git /tmp/pip-req-build-ss87y1_b\n",
      "  Resolved https://github.com/idealo/image-super-resolution.git to commit 3f6498cf1ac4dba162a52c5861aa9d90b7c2fe35\n",
      "Collecting imageio\n",
      "  Downloading imageio-2.16.1-py3-none-any.whl (3.3 MB)\n",
      "\u001b[K     |████████████████████████████████| 3.3 MB 8.1 MB/s eta 0:00:01\n",
      "\u001b[?25hRequirement already satisfied: numpy in /opt/conda/lib/python3.8/site-packages (from ISR==2.2.0) (1.21.2)\n",
      "Requirement already satisfied: tensorflow==2.* in /opt/conda/lib/python3.8/site-packages (from ISR==2.2.0) (2.8.0)\n",
      "Requirement already satisfied: tqdm in /opt/conda/lib/python3.8/site-packages (from ISR==2.2.0) (4.62.3)\n",
      "Collecting pyaml\n",
      "  Downloading pyaml-21.10.1-py2.py3-none-any.whl (24 kB)\n",
      "Collecting h5py==2.10.0\n",
      "  Downloading h5py-2.10.0-cp38-cp38-manylinux1_x86_64.whl (2.9 MB)\n",
      "\u001b[K     |████████████████████████████████| 2.9 MB 37.5 MB/s eta 0:00:01\n",
      "\u001b[?25hRequirement already satisfied: six in /opt/conda/lib/python3.8/site-packages (from h5py==2.10.0->ISR==2.2.0) (1.16.0)\n",
      "Requirement already satisfied: keras-preprocessing>=1.1.1 in /opt/conda/lib/python3.8/site-packages (from tensorflow==2.*->ISR==2.2.0) (1.1.2)\n",
      "Requirement already satisfied: grpcio<2.0,>=1.24.3 in /opt/conda/lib/python3.8/site-packages (from tensorflow==2.*->ISR==2.2.0) (1.44.0)\n",
      "Requirement already satisfied: google-pasta>=0.1.1 in /opt/conda/lib/python3.8/site-packages (from tensorflow==2.*->ISR==2.2.0) (0.2.0)\n",
      "Requirement already satisfied: setuptools in /opt/conda/lib/python3.8/site-packages (from tensorflow==2.*->ISR==2.2.0) (59.5.0)\n",
      "Requirement already satisfied: tf-estimator-nightly==2.8.0.dev2021122109 in /opt/conda/lib/python3.8/site-packages (from tensorflow==2.*->ISR==2.2.0) (2.8.0.dev2021122109)\n",
      "Requirement already satisfied: libclang>=9.0.1 in /opt/conda/lib/python3.8/site-packages (from tensorflow==2.*->ISR==2.2.0) (13.0.0)\n",
      "Requirement already satisfied: absl-py>=0.4.0 in /opt/conda/lib/python3.8/site-packages (from tensorflow==2.*->ISR==2.2.0) (1.0.0)\n",
      "Requirement already satisfied: flatbuffers>=1.12 in /opt/conda/lib/python3.8/site-packages (from tensorflow==2.*->ISR==2.2.0) (2.0)\n",
      "Requirement already satisfied: opt-einsum>=2.3.2 in /opt/conda/lib/python3.8/site-packages (from tensorflow==2.*->ISR==2.2.0) (3.3.0)\n",
      "Requirement already satisfied: wrapt>=1.11.0 in /opt/conda/lib/python3.8/site-packages (from tensorflow==2.*->ISR==2.2.0) (1.14.0)\n",
      "Requirement already satisfied: tensorboard<2.9,>=2.8 in /opt/conda/lib/python3.8/site-packages (from tensorflow==2.*->ISR==2.2.0) (2.8.0)\n",
      "Requirement already satisfied: typing-extensions>=3.6.6 in /opt/conda/lib/python3.8/site-packages (from tensorflow==2.*->ISR==2.2.0) (3.10.0.2)\n",
      "Requirement already satisfied: tensorflow-io-gcs-filesystem>=0.23.1 in /opt/conda/lib/python3.8/site-packages (from tensorflow==2.*->ISR==2.2.0) (0.24.0)\n",
      "Requirement already satisfied: termcolor>=1.1.0 in /opt/conda/lib/python3.8/site-packages (from tensorflow==2.*->ISR==2.2.0) (1.1.0)\n",
      "Requirement already satisfied: keras<2.9,>=2.8.0rc0 in /opt/conda/lib/python3.8/site-packages (from tensorflow==2.*->ISR==2.2.0) (2.8.0)\n",
      "Requirement already satisfied: gast>=0.2.1 in /opt/conda/lib/python3.8/site-packages (from tensorflow==2.*->ISR==2.2.0) (0.5.3)\n",
      "Requirement already satisfied: protobuf>=3.9.2 in /opt/conda/lib/python3.8/site-packages (from tensorflow==2.*->ISR==2.2.0) (3.19.4)\n",
      "Requirement already satisfied: astunparse>=1.6.0 in /opt/conda/lib/python3.8/site-packages (from tensorflow==2.*->ISR==2.2.0) (1.6.3)\n",
      "Requirement already satisfied: wheel<1.0,>=0.23.0 in /opt/conda/lib/python3.8/site-packages (from astunparse>=1.6.0->tensorflow==2.*->ISR==2.2.0) (0.37.1)\n",
      "Requirement already satisfied: markdown>=2.6.8 in /opt/conda/lib/python3.8/site-packages (from tensorboard<2.9,>=2.8->tensorflow==2.*->ISR==2.2.0) (3.3.6)\n",
      "Requirement already satisfied: werkzeug>=0.11.15 in /opt/conda/lib/python3.8/site-packages (from tensorboard<2.9,>=2.8->tensorflow==2.*->ISR==2.2.0) (2.0.3)\n",
      "Requirement already satisfied: requests<3,>=2.21.0 in /opt/conda/lib/python3.8/site-packages (from tensorboard<2.9,>=2.8->tensorflow==2.*->ISR==2.2.0) (2.27.1)\n",
      "Requirement already satisfied: google-auth<3,>=1.6.3 in /opt/conda/lib/python3.8/site-packages (from tensorboard<2.9,>=2.8->tensorflow==2.*->ISR==2.2.0) (2.6.2)\n",
      "Requirement already satisfied: tensorboard-plugin-wit>=1.6.0 in /opt/conda/lib/python3.8/site-packages (from tensorboard<2.9,>=2.8->tensorflow==2.*->ISR==2.2.0) (1.8.1)\n",
      "Requirement already satisfied: tensorboard-data-server<0.7.0,>=0.6.0 in /opt/conda/lib/python3.8/site-packages (from tensorboard<2.9,>=2.8->tensorflow==2.*->ISR==2.2.0) (0.6.1)\n",
      "Requirement already satisfied: google-auth-oauthlib<0.5,>=0.4.1 in /opt/conda/lib/python3.8/site-packages (from tensorboard<2.9,>=2.8->tensorflow==2.*->ISR==2.2.0) (0.4.6)\n"
     ]
    },
    {
     "name": "stdout",
     "output_type": "stream",
     "text": [
      "Requirement already satisfied: pyasn1-modules>=0.2.1 in /opt/conda/lib/python3.8/site-packages (from google-auth<3,>=1.6.3->tensorboard<2.9,>=2.8->tensorflow==2.*->ISR==2.2.0) (0.2.8)\n",
      "Requirement already satisfied: cachetools<6.0,>=2.0.0 in /opt/conda/lib/python3.8/site-packages (from google-auth<3,>=1.6.3->tensorboard<2.9,>=2.8->tensorflow==2.*->ISR==2.2.0) (5.0.0)\n",
      "Requirement already satisfied: rsa<5,>=3.1.4 in /opt/conda/lib/python3.8/site-packages (from google-auth<3,>=1.6.3->tensorboard<2.9,>=2.8->tensorflow==2.*->ISR==2.2.0) (4.8)\n",
      "Requirement already satisfied: requests-oauthlib>=0.7.0 in /opt/conda/lib/python3.8/site-packages (from google-auth-oauthlib<0.5,>=0.4.1->tensorboard<2.9,>=2.8->tensorflow==2.*->ISR==2.2.0) (1.3.1)\n",
      "Requirement already satisfied: importlib-metadata>=4.4 in /opt/conda/lib/python3.8/site-packages (from markdown>=2.6.8->tensorboard<2.9,>=2.8->tensorflow==2.*->ISR==2.2.0) (4.11.3)\n",
      "Requirement already satisfied: zipp>=0.5 in /opt/conda/lib/python3.8/site-packages (from importlib-metadata>=4.4->markdown>=2.6.8->tensorboard<2.9,>=2.8->tensorflow==2.*->ISR==2.2.0) (3.7.0)\n",
      "Requirement already satisfied: pyasn1<0.5.0,>=0.4.6 in /opt/conda/lib/python3.8/site-packages (from pyasn1-modules>=0.2.1->google-auth<3,>=1.6.3->tensorboard<2.9,>=2.8->tensorflow==2.*->ISR==2.2.0) (0.4.8)\n",
      "Requirement already satisfied: charset-normalizer~=2.0.0 in /opt/conda/lib/python3.8/site-packages (from requests<3,>=2.21.0->tensorboard<2.9,>=2.8->tensorflow==2.*->ISR==2.2.0) (2.0.4)\n",
      "Requirement already satisfied: certifi>=2017.4.17 in /opt/conda/lib/python3.8/site-packages (from requests<3,>=2.21.0->tensorboard<2.9,>=2.8->tensorflow==2.*->ISR==2.2.0) (2021.10.8)\n",
      "Requirement already satisfied: idna<4,>=2.5 in /opt/conda/lib/python3.8/site-packages (from requests<3,>=2.21.0->tensorboard<2.9,>=2.8->tensorflow==2.*->ISR==2.2.0) (3.3)\n",
      "Requirement already satisfied: urllib3<1.27,>=1.21.1 in /opt/conda/lib/python3.8/site-packages (from requests<3,>=2.21.0->tensorboard<2.9,>=2.8->tensorflow==2.*->ISR==2.2.0) (1.26.7)\n",
      "Requirement already satisfied: oauthlib>=3.0.0 in /opt/conda/lib/python3.8/site-packages (from requests-oauthlib>=0.7.0->google-auth-oauthlib<0.5,>=0.4.1->tensorboard<2.9,>=2.8->tensorflow==2.*->ISR==2.2.0) (3.2.0)\n",
      "Requirement already satisfied: pillow>=8.3.2 in /opt/conda/lib/python3.8/site-packages (from imageio->ISR==2.2.0) (9.0.1)\n",
      "Requirement already satisfied: PyYAML in /opt/conda/lib/python3.8/site-packages (from pyaml->ISR==2.2.0) (6.0)\n",
      "Building wheels for collected packages: ISR\n",
      "  Building wheel for ISR (setup.py) ... \u001b[?25ldone\n",
      "\u001b[?25h  Created wheel for ISR: filename=ISR-2.2.0-py3-none-any.whl size=33513 sha256=da0fd5d82f28a20309a7649a55f71becd458b3cef28738ac1fa2871bfe1506d4\n",
      "  Stored in directory: /tmp/pip-ephem-wheel-cache-u3usms2w/wheels/dc/fc/9d/b8d248780705e5bdf35cc9fbaa30f0f2c583e4f02275e73d27\n",
      "Successfully built ISR\n",
      "Installing collected packages: h5py, pyaml, imageio, ISR\n",
      "  Attempting uninstall: h5py\n",
      "    Found existing installation: h5py 3.6.0\n",
      "    Uninstalling h5py-3.6.0:\n",
      "      Successfully uninstalled h5py-3.6.0\n",
      "Successfully installed ISR-2.2.0 h5py-2.10.0 imageio-2.16.1 pyaml-21.10.1\n",
      "\u001b[33mWARNING: Running pip as the 'root' user can result in broken permissions and conflicting behaviour with the system package manager. It is recommended to use a virtual environment instead: https://pip.pypa.io/warnings/venv\u001b[0m\n"
     ]
    }
   ],
   "source": [
    "!pip install omegaconf pytorch-lightning tensorflow\n",
    "!pip install git+https://github.com/bfirsh/taming-transformers.git\n",
    "!pip install git+https://github.com/openai/CLIP.git\n",
    "!pip install git+https://github.com/idealo/image-super-resolution.git"
   ]
  },
  {
   "cell_type": "markdown",
   "id": "795c0ddb",
   "metadata": {},
   "source": [
    "## Download AI models\n",
    "\n",
    "We will download them to /weights path.\n",
    "\n",
    "First we download CLIP model. We will download the best performing model (ViT-B-32)."
   ]
  },
  {
   "cell_type": "code",
   "execution_count": 10,
   "id": "03bdc9a4",
   "metadata": {},
   "outputs": [
    {
     "name": "stdout",
     "output_type": "stream",
     "text": [
      "mkdir: cannot create directory ‘weights’: File exists\n",
      "  % Total    % Received % Xferd  Average Speed   Time    Time     Time  Current\n",
      "                                 Dload  Upload   Total   Spent    Left  Speed\n",
      "100  889M  100  889M    0     0  28.6M      0  0:00:31  0:00:31 --:--:-- 31.6M\n"
     ]
    }
   ],
   "source": [
    "!mkdir weights\n",
    "!curl -o weights/ViT-L-14.pt https://openaipublic.azureedge.net/clip/models/b8cca3fd41ae0c99ba7e8951adf17d267cdb84cd88be6f7c2e0eca1737a03836/ViT-L-14.pt"
   ]
  },
  {
   "cell_type": "markdown",
   "id": "e43a8617",
   "metadata": {},
   "source": [
    "Now we download VQGAN model. We choose model depending on what we plan to generate.\n",
    "Each cell downloads one model. All models take around 17.7GB so it is recommended to download only the ones you plan to use.\n",
    "\n",
    "Imagenet 16384 model - Imagenet is a dataset that contains images of 16384 different objects. Model will be good for generating objects."
   ]
  },
  {
   "cell_type": "code",
   "execution_count": 3,
   "id": "e810561f",
   "metadata": {},
   "outputs": [
    {
     "name": "stdout",
     "output_type": "stream",
     "text": [
      "  % Total    % Received % Xferd  Average Speed   Time    Time     Time  Current\n",
      "                                 Dload  Upload   Total   Spent    Left  Speed\n",
      "  0     0    0     0    0     0      0      0 --:--:-- --:--:-- --:--:--     0\n",
      "100  934M  100  934M    0     0  14.8M      0  0:01:03  0:01:03 --:--:-- 14.9M\n",
      "  % Total    % Received % Xferd  Average Speed   Time    Time     Time  Current\n",
      "                                 Dload  Upload   Total   Spent    Left  Speed\n",
      "  0     0    0     0    0     0      0      0 --:--:-- --:--:-- --:--:--     0\n",
      "100   692  100   692    0     0   1272      0 --:--:-- --:--:-- --:--:--  1272\n"
     ]
    }
   ],
   "source": [
    "!curl -L -o weights/vqgan_imagenet_f16_16384.ckpt -C - 'https://heibox.uni-heidelberg.de/f/867b05fc8c4841768640/?dl=1'\n",
    "!curl -L -o weights/vqgan_imagenet_f16_16384.yaml -C - 'https://heibox.uni-heidelberg.de/f/274fb24ed38341bfa753/?dl=1'"
   ]
  },
  {
   "cell_type": "markdown",
   "id": "ee7b6622",
   "metadata": {},
   "source": [
    "COCO model - Dataset contains objects in everyday environment. Another model good for generating objects."
   ]
  },
  {
   "cell_type": "code",
   "execution_count": 4,
   "id": "57dd4b38",
   "metadata": {},
   "outputs": [
    {
     "name": "stdout",
     "output_type": "stream",
     "text": [
      "  % Total    % Received % Xferd  Average Speed   Time    Time     Time  Current\n",
      "                                 Dload  Upload   Total   Spent    Left  Speed\n",
      "100  1980    0     0    0     0      0      0 --:--:-- --:--:-- --:--:--     0 100  1980    0     0   2625      0 --:--:-- --:--:-- --:--:--  2625\n",
      "  % Total    % Received % Xferd  Average Speed   Time    Time     Time  Current\n",
      "                                 Dload  Upload   Total   Spent    Left  Speed\n",
      "100 8045M  100 8045M    0     0  29.6M      0  0:04:31  0:04:31 --:--:-- 26.4M  32 2618M    0     0  29.3M      0  0:04:34  0:01:29  0:03:05 29.3M7589M    0     0  29.6M      0  0:04:31  0:04:16  0:00:15 31.5M     0  29.6M      0  0:04:31  0:04:19  0:00:12 33.0M 96 7784M    0     0  29.6M      0  0:04:31  0:04:22  0:00:09 32.7M\n"
     ]
    }
   ],
   "source": [
    "!curl -L -o weights/coco.yaml -C - 'https://dl.nmkd.de/ai/clip/coco/coco.yaml'\n",
    "!curl -L -o weights/coco.ckpt -C - 'https://dl.nmkd.de/ai/clip/coco/coco.ckpt'"
   ]
  },
  {
   "cell_type": "markdown",
   "id": "740dc346",
   "metadata": {},
   "source": [
    "FacesHQ model - Dataset containing faces. Model will be good for generating portraits (or more specifically monsters because this method does not generate good portraits)."
   ]
  },
  {
   "cell_type": "code",
   "execution_count": 4,
   "id": "7bed89ea",
   "metadata": {},
   "outputs": [
    {
     "name": "stdout",
     "output_type": "stream",
     "text": [
      "  % Total    % Received % Xferd  Average Speed   Time    Time     Time  Current\n",
      "                                 Dload  Upload   Total   Spent    Left  Speed\n",
      "  0     0    0     0    0     0      0      0 --:--:-- --:--:-- --:--:--     0\n",
      "100  1451  100  1451    0     0   1545      0 --:--:-- --:--:-- --:--:--  1545\n",
      "  % Total    % Received % Xferd  Average Speed   Time    Time     Time  Current\n",
      "                                 Dload  Upload   Total   Spent    Left  Speed\n",
      "100 3789M  100 3789M    0     0  32.3M      0  0:01:57  0:01:57 --:--:-- 59.7MM\n"
     ]
    }
   ],
   "source": [
    "!curl -L -o weights/faceshq.yaml -C - 'https://drive.google.com/uc?export=download&id=1fHwGx_hnBtC8nsq7hesJvs-Klv-P0gzT'\n",
    "!curl -L -o weights/faceshq.ckpt -C - 'https://app.koofr.net/content/links/a04deec9-0c59-4673-8b37-3d696fe63a5d/files/get/last.ckpt?path=%2F2020-11-13T21-41-45_faceshq_transformer%2Fcheckpoints%2Flast.ckpt'"
   ]
  },
  {
   "cell_type": "markdown",
   "id": "6bd84ce6",
   "metadata": {},
   "source": [
    "Wikiart model - Dataset containing paintings. Model will be good for generating paintings."
   ]
  },
  {
   "cell_type": "code",
   "execution_count": 5,
   "id": "efb6044c",
   "metadata": {},
   "outputs": [
    {
     "name": "stdout",
     "output_type": "stream",
     "text": [
      "  % Total    % Received % Xferd  Average Speed   Time    Time     Time  Current\n",
      "                                 Dload  Upload   Total   Spent    Left  Speed\n",
      "100  958M  100  958M    0     0  7304k      0  0:02:14  0:02:14 --:--:-- 6968k6M    0     0  6177k      0  0:02:38  0:00:06  0:02:32 7575k   0     0  7167k      0  0:02:16  0:00:46  0:01:30 7542k    0  7262k      0  0:02:15  0:01:33  0:00:42 7421k  0  7284k      0  0:02:14  0:01:42  0:00:32 7514k\n",
      "  % Total    % Received % Xferd  Average Speed   Time    Time     Time  Current\n",
      "                                 Dload  Upload   Total   Spent    Left  Speed\n",
      "100   920  100   920    0     0   2058      0 --:--:-- --:--:-- --:--:--  2058\n"
     ]
    }
   ],
   "source": [
    "!curl -L -o weights/wikiart_16384.ckpt -C - 'http://eaidata.bmk.sh/data/Wikiart_16384/wikiart_f16_16384_8145600.ckpt'\n",
    "!curl -L -o weights/wikiart_16384.yaml -C - 'http://eaidata.bmk.sh/data/Wikiart_16384/wikiart_f16_16384_8145600.yaml'"
   ]
  },
  {
   "cell_type": "markdown",
   "id": "4d5316fc",
   "metadata": {},
   "source": [
    "Flickr dataset - Dataset containing a lot of landscapes. Model will be good for generating landscapes."
   ]
  },
  {
   "cell_type": "code",
   "execution_count": 11,
   "id": "a86e2d60",
   "metadata": {},
   "outputs": [
    {
     "name": "stdout",
     "output_type": "stream",
     "text": [
      "** Resuming transfer from byte position 1603\n",
      "  % Total    % Received % Xferd  Average Speed   Time    Time     Time  Current\n",
      "                                 Dload  Upload   Total   Spent    Left  Speed\n",
      "  0     0    0     0    0     0      0      0 --:--:-- --:--:-- --:--:--     0\n",
      "  0     0    0     0    0     0      0      0 --:--:-- --:--:-- --:--:--     0\n",
      "** Resuming transfer from byte position 516096\n",
      "  % Total    % Received % Xferd  Average Speed   Time    Time     Time  Current\n",
      "                                 Dload  Upload   Total   Spent    Left  Speed\n",
      "  0     0    0     0    0     0      0      0 --:--:-- --:--:-- --:--:--     0\n",
      "100 4065M  100 4065M    0     0  14.7M      0  0:04:35  0:04:35 --:--:-- 14.9M8M      0  0:04:33  0:02:07  0:02:26 14.9M4065M   79 3211M    0     0  14.8M      0  0:04:32  0:03:35  0:00:57 15.6M\n"
     ]
    }
   ],
   "source": [
    "!curl -L -o weights/sflckr.yaml -C - 'https://heibox.uni-heidelberg.de/d/73487ab6e5314cb5adba/files/?p=%2Fconfigs%2F2020-11-09T13-31-51-project.yaml&dl=1'\n",
    "!curl -L -o weights/sflckr.ckpt -C - 'https://heibox.uni-heidelberg.de/d/73487ab6e5314cb5adba/files/?p=%2Fcheckpoints%2Flast.ckpt&dl=1'"
   ]
  },
  {
   "cell_type": "markdown",
   "id": "afe86159",
   "metadata": {},
   "source": [
    "Superresolution models."
   ]
  },
  {
   "cell_type": "code",
   "execution_count": 14,
   "id": "295dbcc8",
   "metadata": {},
   "outputs": [
    {
     "name": "stdout",
     "output_type": "stream",
     "text": [
      "--2022-03-27 18:32:50--  https://public-asai-dl-models.s3.eu-central-1.amazonaws.com/ISR/rdn-C3-D10-G64-G064-x2/PSNR-driven/rdn-C3-D10-G64-G064-x2_PSNR_epoch134.hdf5\n",
      "Resolving public-asai-dl-models.s3.eu-central-1.amazonaws.com (public-asai-dl-models.s3.eu-central-1.amazonaws.com)... 52.219.170.46\n",
      "Connecting to public-asai-dl-models.s3.eu-central-1.amazonaws.com (public-asai-dl-models.s3.eu-central-1.amazonaws.com)|52.219.170.46|:443... connected.\n",
      "HTTP request sent, awaiting response... 200 OK\n",
      "Length: 10694096 (10M) [binary/octet-stream]\n",
      "Saving to: ‘rdn-C3-D10-G64-G064-x2_PSNR_epoch134.hdf5’\n",
      "\n",
      "rdn-C3-D10-G64-G064 100%[===================>]  10.20M  3.19MB/s    in 3.2s    \n",
      "\n",
      "2022-03-27 18:32:54 (3.19 MB/s) - ‘rdn-C3-D10-G64-G064-x2_PSNR_epoch134.hdf5’ saved [10694096/10694096]\n",
      "\n",
      "--2022-03-27 18:32:54--  https://public-asai-dl-models.s3.eu-central-1.amazonaws.com/ISR/rdn-C6-D20-G64-G064-x2/ArtefactCancelling/rdn-C6-D20-G64-G064-x2_ArtefactCancelling_epoch219.hdf5\n",
      "Resolving public-asai-dl-models.s3.eu-central-1.amazonaws.com (public-asai-dl-models.s3.eu-central-1.amazonaws.com)... 52.219.170.46\n",
      "Connecting to public-asai-dl-models.s3.eu-central-1.amazonaws.com (public-asai-dl-models.s3.eu-central-1.amazonaws.com)|52.219.170.46|:443... connected.\n",
      "HTTP request sent, awaiting response... 200 OK\n",
      "Length: 66071288 (63M) [application/x-www-form-urlencoded]\n",
      "Saving to: ‘rdn-C6-D20-G64-G064-x2_ArtefactCancelling_epoch219.hdf5’\n",
      "\n",
      "rdn-C6-D20-G64-G064 100%[===================>]  63.01M  5.29MB/s    in 16s     \n",
      "\n",
      "2022-03-27 18:33:11 (4.03 MB/s) - ‘rdn-C6-D20-G64-G064-x2_ArtefactCancelling_epoch219.hdf5’ saved [66071288/66071288]\n",
      "\n"
     ]
    }
   ],
   "source": [
    "!wget https://public-asai-dl-models.s3.eu-central-1.amazonaws.com/ISR/rdn-C3-D10-G64-G064-x2/PSNR-driven/rdn-C3-D10-G64-G064-x2_PSNR_epoch134.hdf5\n",
    "!wget https://public-asai-dl-models.s3.eu-central-1.amazonaws.com/ISR/rdn-C6-D20-G64-G064-x2/ArtefactCancelling/rdn-C6-D20-G64-G064-x2_ArtefactCancelling_epoch219.hdf5"
   ]
  },
  {
   "cell_type": "code",
   "execution_count": 15,
   "id": "4f986eb0",
   "metadata": {},
   "outputs": [],
   "source": [
    "mv *.hdf5 weights"
   ]
  }
 ],
 "metadata": {
  "kernelspec": {
   "display_name": "Python 3 (ipykernel)",
   "language": "python",
   "name": "python3"
  },
  "language_info": {
   "codemirror_mode": {
    "name": "ipython",
    "version": 3
   },
   "file_extension": ".py",
   "mimetype": "text/x-python",
   "name": "python",
   "nbconvert_exporter": "python",
   "pygments_lexer": "ipython3",
   "version": "3.8.12"
  }
 },
 "nbformat": 4,
 "nbformat_minor": 5
}
