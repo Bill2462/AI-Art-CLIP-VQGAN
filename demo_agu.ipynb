{
 "cells": [
  {
   "cell_type": "code",
   "execution_count": 16,
   "id": "50873634-1220-4b99-b1d8-734ef32668c8",
   "metadata": {},
   "outputs": [],
   "source": [
    "import torch\n",
    "from torch import nn, optim\n",
    "from torch.nn import functional as F\n",
    "from torchvision.transforms import functional as TF\n",
    "# Image transformations\n",
    "from torchvision import transforms\n",
    "from PIL import Image"
   ]
  },
  {
   "cell_type": "code",
   "execution_count": 2,
   "id": "390335e6-88fe-4f15-810b-a0ab88676093",
   "metadata": {},
   "outputs": [],
   "source": [
    "device = torch.device(\"cpu\")"
   ]
  },
  {
   "cell_type": "code",
   "execution_count": 3,
   "id": "c60e28eb-864e-45df-a954-4e611b6e1543",
   "metadata": {},
   "outputs": [],
   "source": [
    "class Agumenter:\n",
    "    def __init__(self, device, cutn=10, cut_size=512, cut_pow=1.):\n",
    "        self.cut_pow = cut_pow\n",
    "        self.cutn = cutn\n",
    "        \n",
    "        # Note: nn.Sequential is so we can backpropagate through.\n",
    "        # Compose from torchvision is not differentiable.\n",
    "        self.cut_size = cut_size\n",
    "        self.augs = nn.Sequential(\n",
    "            transforms.RandomHorizontalFlip(p=0.5),\n",
    "            transforms.RandomAffine(degrees=30),\n",
    "            transforms.RandomPerspective(0.2,p=0.4),\n",
    "            transforms.ColorJitter(hue=0.01, saturation=0.01)\n",
    "        ).to(device)\n",
    "\n",
    "        self.norm = transforms.Normalize((0.48145466, 0.4578275, 0.40821073),\n",
    "                                         (0.26862954, 0.26130258, 0.27577711)).to(device)\n",
    "        \n",
    "        self.resize = transforms.Resize(cut_size).to(device)\n",
    "\n",
    "    def __call__(self, input):\n",
    "        sideY, sideX = input.shape[2:4]\n",
    "        max_size = min(sideX, sideY)\n",
    "        min_size = min(sideX, sideY, self.cut_size)\n",
    "        cutouts = []\n",
    "        for _ in range(self.cutn):\n",
    "            size = int(torch.rand([])**self.cut_pow * (max_size - min_size) + min_size)\n",
    "            offsetx = torch.randint(0, sideX - size + 1, ())\n",
    "            offsety = torch.randint(0, sideY - size + 1, ())\n",
    "            cutout = input[:, :, offsety:offsety + size, offsetx:offsetx + size]\n",
    "            cutouts.append(self.resize(cutout))\n",
    "            \n",
    "        batch = self.augs(torch.cat(cutouts, dim=0))\n",
    "        return  batch"
   ]
  },
  {
   "cell_type": "code",
   "execution_count": 4,
   "id": "f52c2f8c-0815-4948-ae53-fd78f76c54de",
   "metadata": {},
   "outputs": [],
   "source": [
    "agumenter = Agumenter(device)"
   ]
  },
  {
   "cell_type": "code",
   "execution_count": 8,
   "id": "83d1773a-f58b-413b-9664-83e9ed262ab5",
   "metadata": {},
   "outputs": [],
   "source": [
    "img = Image.open(\"/home/krzys/monarch.jpg\")"
   ]
  },
  {
   "cell_type": "code",
   "execution_count": 12,
   "id": "7fb91861-155c-4730-88c5-5a38890d7b6b",
   "metadata": {},
   "outputs": [],
   "source": [
    "tensor = transforms.functional.pil_to_tensor(img).unsqueeze(0)"
   ]
  },
  {
   "cell_type": "code",
   "execution_count": 13,
   "id": "cb317223-5b10-475b-b7eb-d2da25c5b1ab",
   "metadata": {},
   "outputs": [
    {
     "data": {
      "text/plain": [
       "torch.Size([1, 3, 1536, 1920])"
      ]
     },
     "execution_count": 13,
     "metadata": {},
     "output_type": "execute_result"
    }
   ],
   "source": [
    "tensor.shape"
   ]
  },
  {
   "cell_type": "code",
   "execution_count": 32,
   "id": "98d22108-dd6d-4181-af28-ec854cd53b99",
   "metadata": {},
   "outputs": [],
   "source": [
    "aug = agumenter(tensor)"
   ]
  },
  {
   "cell_type": "code",
   "execution_count": 33,
   "id": "99e8a8d2-82b2-4ab4-8791-cb92aed5dcd2",
   "metadata": {},
   "outputs": [],
   "source": [
    "for i in range(10):\n",
    "    img = TF.to_pil_image(aug[i])\n",
    "    img.save(f\"{i}.png\")"
   ]
  },
  {
   "cell_type": "code",
   "execution_count": null,
   "id": "d64b871a-7f65-4b49-b3ef-890b665bc837",
   "metadata": {},
   "outputs": [],
   "source": []
  }
 ],
 "metadata": {
  "kernelspec": {
   "display_name": "Python 3 (ipykernel)",
   "language": "python",
   "name": "python3"
  },
  "language_info": {
   "codemirror_mode": {
    "name": "ipython",
    "version": 3
   },
   "file_extension": ".py",
   "mimetype": "text/x-python",
   "name": "python",
   "nbconvert_exporter": "python",
   "pygments_lexer": "ipython3",
   "version": "3.7.11"
  }
 },
 "nbformat": 4,
 "nbformat_minor": 5
}
